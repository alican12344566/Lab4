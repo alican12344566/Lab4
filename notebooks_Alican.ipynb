{
  "metadata": {
    "kernelspec": {
      "name": "python",
      "display_name": "Python (Pyodide)",
      "language": "python"
    },
    "language_info": {
      "codemirror_mode": {
        "name": "python",
        "version": 3
      },
      "file_extension": ".py",
      "mimetype": "text/x-python",
      "name": "python",
      "nbconvert_exporter": "python",
      "pygments_lexer": "ipython3",
      "version": "3.8"
    }
  },
  "nbformat_minor": 5,
  "nbformat": 4,
  "cells": [
    {
      "cell_type": "code",
      "source": "a= \"Məniç adım Əlicandır\"\nprint(a)",
      "metadata": {
        "trusted": true
      },
      "execution_count": 1,
      "outputs": [
        {
          "name": "stdout",
          "text": "Məniç adım Əlicandır\n",
          "output_type": "stream"
        }
      ],
      "id": "cdb7d78f-ff3a-4204-8304-8dab14a76c58"
    },
    {
      "cell_type": "code",
      "source": "a= 7\nb= 153\nprint(a+b)",
      "metadata": {
        "trusted": true
      },
      "execution_count": 3,
      "outputs": [
        {
          "name": "stdout",
          "text": "160\n",
          "output_type": "stream"
        }
      ],
      "id": "c9fd0cec-082b-4cd8-b8a4-cf8e939eb5a9"
    },
    {
      "cell_type": "code",
      "source": "",
      "metadata": {
        "trusted": true
      },
      "execution_count": null,
      "outputs": [],
      "id": "bb8757f3-1ee5-4784-99b3-1ad0812f8fb4"
    },
    {
      "cell_type": "code",
      "source": "",
      "metadata": {
        "jupyter": {
          "source_hidden": true,
          "outputs_hidden": true
        },
        "collapsed": true,
        "trusted": true
      },
      "execution_count": 6,
      "outputs": [
        {
          "ename": "<class 'TypeError'>",
          "evalue": "int() argument must be a string, a bytes-like object or a real number, not 'PyodideFuture'",
          "traceback": [
            "\u001b[0;31m---------------------------------------------------------------------------\u001b[0m",
            "\u001b[0;31mTypeError\u001b[0m                                 Traceback (most recent call last)",
            "Cell \u001b[0;32mIn[6], line 1\u001b[0m\n\u001b[0;32m----> 1\u001b[0m kilo\u001b[38;5;241m=\u001b[39m\u001b[38;5;28;43mint\u001b[39;49m\u001b[43m(\u001b[49m\u001b[38;5;28;43minput\u001b[39;49m\u001b[43m(\u001b[49m\u001b[38;5;241;43m67\u001b[39;49m\u001b[43m)\u001b[49m\u001b[43m)\u001b[49m\n\u001b[1;32m      2\u001b[0m \u001b[38;5;28;01mif\u001b[39;00m kilo\u001b[38;5;241m<\u001b[39m\u001b[38;5;241m50\u001b[39m:\n\u001b[1;32m      3\u001b[0m          \u001b[38;5;28mprint\u001b[39m(\u001b[38;5;124m\"\u001b[39m\u001b[38;5;124mzəifsən\u001b[39m\u001b[38;5;124m\"\u001b[39m)\n",
            "\u001b[0;31mTypeError\u001b[0m: int() argument must be a string, a bytes-like object or a real number, not 'PyodideFuture'"
          ],
          "output_type": "error"
        }
      ],
      "id": "47fcb9ac-b2a1-43c3-83d2-32d8c4ffc1f0"
    },
    {
      "cell_type": "code",
      "source": "",
      "metadata": {},
      "execution_count": null,
      "outputs": [],
      "id": "4fca3442-b87d-43db-a246-3592aaf33061"
    },
    {
      "cell_type": "code",
      "source": "s=85\nprint(s)\n",
      "metadata": {
        "trusted": true
      },
      "execution_count": 2,
      "outputs": [
        {
          "name": "stdout",
          "text": "85\n",
          "output_type": "stream"
        }
      ],
      "id": "b04755ee-b331-4159-8fa2-dffd8b833543"
    },
    {
      "cell_type": "code",
      "source": "h= \"elektrik və elektronika mühəndsiliyi\"\nv= \"üçüncü kurs\"\nprint(h,v)",
      "metadata": {
        "trusted": true
      },
      "execution_count": 3,
      "outputs": [
        {
          "name": "stdout",
          "text": "elektrik və elektronika mühəndsiliyi üçüncü kurs\n",
          "output_type": "stream"
        }
      ],
      "id": "f3f4c4be-c6cc-4b8b-a612-2c0500b9d211"
    },
    {
      "cell_type": "code",
      "source": "",
      "metadata": {},
      "execution_count": null,
      "outputs": [],
      "id": "2451a1c7-b630-41ff-9cd8-f15613b6b46b"
    },
    {
      "cell_type": "code",
      "source": "",
      "metadata": {},
      "execution_count": null,
      "outputs": [],
      "id": "c4912995-0e21-41df-8241-fe90eb2631ea"
    }
  ]
}